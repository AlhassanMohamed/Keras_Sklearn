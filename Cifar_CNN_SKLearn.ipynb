{
 "cells": [
  {
   "cell_type": "markdown",
   "metadata": {},
   "source": [
    "# CNN with non-softmax classification"
   ]
  },
  {
   "cell_type": "markdown",
   "metadata": {},
   "source": [
    "## Backend and import"
   ]
  },
  {
   "cell_type": "code",
   "execution_count": 47,
   "metadata": {
    "scrolled": true
   },
   "outputs": [
    {
     "name": "stdout",
     "output_type": "stream",
     "text": [
      "tensorflow\n"
     ]
    }
   ],
   "source": [
    "import os\n",
    "os.environ[\"KERAS_BACKEND\"] = \"tensorflow\"\n",
    "kerasBKED = os.environ[\"KERAS_BACKEND\"] \n",
    "print(kerasBKED)"
   ]
  },
  {
   "cell_type": "code",
   "execution_count": 48,
   "metadata": {
    "collapsed": true
   },
   "outputs": [],
   "source": [
    "import keras\n",
    "from keras.models import load_model\n",
    "from keras.datasets import cifar10\n",
    "from keras.preprocessing.image import ImageDataGenerator\n",
    "from keras.models import Sequential\n",
    "from keras.layers import Dense, Dropout, Activation, Flatten\n",
    "from keras.layers import Conv2D, MaxPooling2D\n",
    "from keras.callbacks import EarlyStopping, ModelCheckpoint\n",
    "import os\n",
    "import pickle\n",
    "import numpy as np"
   ]
  },
  {
   "cell_type": "code",
   "execution_count": null,
   "metadata": {
    "collapsed": true
   },
   "outputs": [],
   "source": []
  },
  {
   "cell_type": "markdown",
   "metadata": {},
   "source": [
    "## Load Cifar10"
   ]
  },
  {
   "cell_type": "code",
   "execution_count": 49,
   "metadata": {
    "collapsed": true
   },
   "outputs": [],
   "source": [
    "batch_size = 32\n",
    "num_classes = 10\n",
    "epochs = 100\n",
    "saveDir = \"/opt/files/python/transfer/cifar10/\"\n",
    "if not os.path.isdir(saveDir):\n",
    "    os.makedirs(saveDir)"
   ]
  },
  {
   "cell_type": "code",
   "execution_count": 50,
   "metadata": {
    "collapsed": true
   },
   "outputs": [],
   "source": [
    "(x_train, y_train), (x_test, y_test) = cifar10.load_data()"
   ]
  },
  {
   "cell_type": "code",
   "execution_count": 51,
   "metadata": {},
   "outputs": [
    {
     "name": "stdout",
     "output_type": "stream",
     "text": [
      "x_train shape: (50000, 32, 32, 3)\n",
      "50000 train samples\n",
      "10000 test samples\n"
     ]
    }
   ],
   "source": [
    "print('x_train shape:', x_train.shape)\n",
    "print(x_train.shape[0], 'train samples')\n",
    "print(x_test.shape[0], 'test samples')"
   ]
  },
  {
   "cell_type": "code",
   "execution_count": 52,
   "metadata": {
    "collapsed": true
   },
   "outputs": [],
   "source": [
    "y_traincl = keras.utils.to_categorical(y_train, num_classes)\n",
    "y_testcl = keras.utils.to_categorical(y_test, num_classes)\n",
    "\n",
    "x_train = x_train.astype('float32')\n",
    "x_test = x_test.astype('float32')\n",
    "x_train /= 255\n",
    "x_test /= 255"
   ]
  },
  {
   "cell_type": "code",
   "execution_count": null,
   "metadata": {
    "collapsed": true
   },
   "outputs": [],
   "source": []
  },
  {
   "cell_type": "markdown",
   "metadata": {
    "collapsed": true
   },
   "source": [
    "## VGG-like CNN"
   ]
  },
  {
   "cell_type": "code",
   "execution_count": 53,
   "metadata": {
    "collapsed": true
   },
   "outputs": [],
   "source": [
    "featureLayer1=[Conv2D(64, (3, 3), padding='same',input_shape=x_train.shape[1:]),\n",
    "               Activation('relu'),\n",
    "               Conv2D(64, (3, 3), padding='same'),\n",
    "               Activation('relu'),\n",
    "               MaxPooling2D(pool_size=(2, 2)),\n",
    "               Dropout(0.25)]\n",
    "\n",
    "featureLayer2=[Conv2D(128, (3, 3), padding='same'),\n",
    "               Activation('relu'),\n",
    "               Conv2D(128, (3, 3), padding='same'),\n",
    "               Activation('relu'),\n",
    "               MaxPooling2D(pool_size=(2, 2)),\n",
    "               Dropout(0.25)]\n",
    "\n",
    "featureLayer3=[Conv2D(256, (3, 3), padding='same'),\n",
    "               Activation('relu'),\n",
    "               Conv2D(256, (3, 3), padding='same'),\n",
    "               Activation('relu'),\n",
    "               Conv2D(256, (3, 3), padding='same'),\n",
    "               Activation('relu'),\n",
    "               MaxPooling2D(pool_size=(2, 2)),\n",
    "               Dropout(0.25)]\n",
    "\n",
    "fullConnLayer=[Flatten(),\n",
    "               Dense(1024),\n",
    "               Activation('relu'),\n",
    "               Dropout(0.5),\n",
    "               Dense(1024),\n",
    "               Activation('relu'),\n",
    "               Dropout(0.5)]\n",
    "\n",
    "classificationLayer=[Dense(num_classes),\n",
    "                     Activation('softmax')]\n",
    "\n",
    "model = Sequential(featureLayer1 + featureLayer2 + featureLayer3 + fullConnLayer + classificationLayer)"
   ]
  },
  {
   "cell_type": "code",
   "execution_count": 93,
   "metadata": {
    "scrolled": true
   },
   "outputs": [
    {
     "data": {
      "image/svg+xml": [
       "<svg height=\"2162pt\" viewBox=\"0.00 0.00 215.00 2162.00\" width=\"215pt\" xmlns=\"http://www.w3.org/2000/svg\" xmlns:xlink=\"http://www.w3.org/1999/xlink\">\n",
       "<g class=\"graph\" id=\"graph0\" transform=\"scale(1 1) rotate(0) translate(4 2158)\">\n",
       "<title>G</title>\n",
       "<polygon fill=\"white\" points=\"-4,4 -4,-2158 211,-2158 211,4 -4,4\" stroke=\"none\"/>\n",
       "<!-- 140444791600576 -->\n",
       "<g class=\"node\" id=\"node1\"><title>140444791600576</title>\n",
       "<polygon fill=\"none\" points=\"14,-2117.5 14,-2153.5 193,-2153.5 193,-2117.5 14,-2117.5\" stroke=\"black\"/>\n",
       "<text font-family=\"Times,serif\" font-size=\"14.00\" text-anchor=\"middle\" x=\"103.5\" y=\"-2131.8\">conv2d_15_input: InputLayer</text>\n",
       "</g>\n",
       "<!-- 140445691860864 -->\n",
       "<g class=\"node\" id=\"node2\"><title>140445691860864</title>\n",
       "<polygon fill=\"none\" points=\"38.5,-2044.5 38.5,-2080.5 168.5,-2080.5 168.5,-2044.5 38.5,-2044.5\" stroke=\"black\"/>\n",
       "<text font-family=\"Times,serif\" font-size=\"14.00\" text-anchor=\"middle\" x=\"103.5\" y=\"-2058.8\">conv2d_15: Conv2D</text>\n",
       "</g>\n",
       "<!-- 140444791600576&#45;&gt;140445691860864 -->\n",
       "<g class=\"edge\" id=\"edge1\"><title>140444791600576-&gt;140445691860864</title>\n",
       "<path d=\"M103.5,-2117.31C103.5,-2109.29 103.5,-2099.55 103.5,-2090.57\" fill=\"none\" stroke=\"black\"/>\n",
       "<polygon fill=\"black\" points=\"107,-2090.53 103.5,-2080.53 100,-2090.53 107,-2090.53\" stroke=\"black\"/>\n",
       "</g>\n",
       "<!-- 140445691862040 -->\n",
       "<g class=\"node\" id=\"node3\"><title>140445691862040</title>\n",
       "<polygon fill=\"none\" points=\"26,-1971.5 26,-2007.5 181,-2007.5 181,-1971.5 26,-1971.5\" stroke=\"black\"/>\n",
       "<text font-family=\"Times,serif\" font-size=\"14.00\" text-anchor=\"middle\" x=\"103.5\" y=\"-1985.8\">activation_21: Activation</text>\n",
       "</g>\n",
       "<!-- 140445691860864&#45;&gt;140445691862040 -->\n",
       "<g class=\"edge\" id=\"edge2\"><title>140445691860864-&gt;140445691862040</title>\n",
       "<path d=\"M103.5,-2044.31C103.5,-2036.29 103.5,-2026.55 103.5,-2017.57\" fill=\"none\" stroke=\"black\"/>\n",
       "<polygon fill=\"black\" points=\"107,-2017.53 103.5,-2007.53 100,-2017.53 107,-2017.53\" stroke=\"black\"/>\n",
       "</g>\n",
       "<!-- 140445691859128 -->\n",
       "<g class=\"node\" id=\"node4\"><title>140445691859128</title>\n",
       "<polygon fill=\"none\" points=\"38.5,-1898.5 38.5,-1934.5 168.5,-1934.5 168.5,-1898.5 38.5,-1898.5\" stroke=\"black\"/>\n",
       "<text font-family=\"Times,serif\" font-size=\"14.00\" text-anchor=\"middle\" x=\"103.5\" y=\"-1912.8\">conv2d_16: Conv2D</text>\n",
       "</g>\n",
       "<!-- 140445691862040&#45;&gt;140445691859128 -->\n",
       "<g class=\"edge\" id=\"edge3\"><title>140445691862040-&gt;140445691859128</title>\n",
       "<path d=\"M103.5,-1971.31C103.5,-1963.29 103.5,-1953.55 103.5,-1944.57\" fill=\"none\" stroke=\"black\"/>\n",
       "<polygon fill=\"black\" points=\"107,-1944.53 103.5,-1934.53 100,-1944.53 107,-1944.53\" stroke=\"black\"/>\n",
       "</g>\n",
       "<!-- 140445691860752 -->\n",
       "<g class=\"node\" id=\"node5\"><title>140445691860752</title>\n",
       "<polygon fill=\"none\" points=\"26,-1825.5 26,-1861.5 181,-1861.5 181,-1825.5 26,-1825.5\" stroke=\"black\"/>\n",
       "<text font-family=\"Times,serif\" font-size=\"14.00\" text-anchor=\"middle\" x=\"103.5\" y=\"-1839.8\">activation_22: Activation</text>\n",
       "</g>\n",
       "<!-- 140445691859128&#45;&gt;140445691860752 -->\n",
       "<g class=\"edge\" id=\"edge4\"><title>140445691859128-&gt;140445691860752</title>\n",
       "<path d=\"M103.5,-1898.31C103.5,-1890.29 103.5,-1880.55 103.5,-1871.57\" fill=\"none\" stroke=\"black\"/>\n",
       "<polygon fill=\"black\" points=\"107,-1871.53 103.5,-1861.53 100,-1871.53 107,-1871.53\" stroke=\"black\"/>\n",
       "</g>\n",
       "<!-- 140445691860416 -->\n",
       "<g class=\"node\" id=\"node6\"><title>140445691860416</title>\n",
       "<polygon fill=\"none\" points=\"0,-1752.5 0,-1788.5 207,-1788.5 207,-1752.5 0,-1752.5\" stroke=\"black\"/>\n",
       "<text font-family=\"Times,serif\" font-size=\"14.00\" text-anchor=\"middle\" x=\"103.5\" y=\"-1766.8\">max_pooling2d_7: MaxPooling2D</text>\n",
       "</g>\n",
       "<!-- 140445691860752&#45;&gt;140445691860416 -->\n",
       "<g class=\"edge\" id=\"edge5\"><title>140445691860752-&gt;140445691860416</title>\n",
       "<path d=\"M103.5,-1825.31C103.5,-1817.29 103.5,-1807.55 103.5,-1798.57\" fill=\"none\" stroke=\"black\"/>\n",
       "<polygon fill=\"black\" points=\"107,-1798.53 103.5,-1788.53 100,-1798.53 107,-1798.53\" stroke=\"black\"/>\n",
       "</g>\n",
       "<!-- 140445691859968 -->\n",
       "<g class=\"node\" id=\"node7\"><title>140445691859968</title>\n",
       "<polygon fill=\"none\" points=\"38,-1679.5 38,-1715.5 169,-1715.5 169,-1679.5 38,-1679.5\" stroke=\"black\"/>\n",
       "<text font-family=\"Times,serif\" font-size=\"14.00\" text-anchor=\"middle\" x=\"103.5\" y=\"-1693.8\">dropout_11: Dropout</text>\n",
       "</g>\n",
       "<!-- 140445691860416&#45;&gt;140445691859968 -->\n",
       "<g class=\"edge\" id=\"edge6\"><title>140445691860416-&gt;140445691859968</title>\n",
       "<path d=\"M103.5,-1752.31C103.5,-1744.29 103.5,-1734.55 103.5,-1725.57\" fill=\"none\" stroke=\"black\"/>\n",
       "<polygon fill=\"black\" points=\"107,-1725.53 103.5,-1715.53 100,-1725.53 107,-1725.53\" stroke=\"black\"/>\n",
       "</g>\n",
       "<!-- 140445691860360 -->\n",
       "<g class=\"node\" id=\"node8\"><title>140445691860360</title>\n",
       "<polygon fill=\"none\" points=\"38.5,-1606.5 38.5,-1642.5 168.5,-1642.5 168.5,-1606.5 38.5,-1606.5\" stroke=\"black\"/>\n",
       "<text font-family=\"Times,serif\" font-size=\"14.00\" text-anchor=\"middle\" x=\"103.5\" y=\"-1620.8\">conv2d_17: Conv2D</text>\n",
       "</g>\n",
       "<!-- 140445691859968&#45;&gt;140445691860360 -->\n",
       "<g class=\"edge\" id=\"edge7\"><title>140445691859968-&gt;140445691860360</title>\n",
       "<path d=\"M103.5,-1679.31C103.5,-1671.29 103.5,-1661.55 103.5,-1652.57\" fill=\"none\" stroke=\"black\"/>\n",
       "<polygon fill=\"black\" points=\"107,-1652.53 103.5,-1642.53 100,-1652.53 107,-1652.53\" stroke=\"black\"/>\n",
       "</g>\n",
       "<!-- 140445691860696 -->\n",
       "<g class=\"node\" id=\"node9\"><title>140445691860696</title>\n",
       "<polygon fill=\"none\" points=\"26,-1533.5 26,-1569.5 181,-1569.5 181,-1533.5 26,-1533.5\" stroke=\"black\"/>\n",
       "<text font-family=\"Times,serif\" font-size=\"14.00\" text-anchor=\"middle\" x=\"103.5\" y=\"-1547.8\">activation_23: Activation</text>\n",
       "</g>\n",
       "<!-- 140445691860360&#45;&gt;140445691860696 -->\n",
       "<g class=\"edge\" id=\"edge8\"><title>140445691860360-&gt;140445691860696</title>\n",
       "<path d=\"M103.5,-1606.31C103.5,-1598.29 103.5,-1588.55 103.5,-1579.57\" fill=\"none\" stroke=\"black\"/>\n",
       "<polygon fill=\"black\" points=\"107,-1579.53 103.5,-1569.53 100,-1579.53 107,-1579.53\" stroke=\"black\"/>\n",
       "</g>\n",
       "<!-- 140444886676592 -->\n",
       "<g class=\"node\" id=\"node10\"><title>140444886676592</title>\n",
       "<polygon fill=\"none\" points=\"38.5,-1460.5 38.5,-1496.5 168.5,-1496.5 168.5,-1460.5 38.5,-1460.5\" stroke=\"black\"/>\n",
       "<text font-family=\"Times,serif\" font-size=\"14.00\" text-anchor=\"middle\" x=\"103.5\" y=\"-1474.8\">conv2d_18: Conv2D</text>\n",
       "</g>\n",
       "<!-- 140445691860696&#45;&gt;140444886676592 -->\n",
       "<g class=\"edge\" id=\"edge9\"><title>140445691860696-&gt;140444886676592</title>\n",
       "<path d=\"M103.5,-1533.31C103.5,-1525.29 103.5,-1515.55 103.5,-1506.57\" fill=\"none\" stroke=\"black\"/>\n",
       "<polygon fill=\"black\" points=\"107,-1506.53 103.5,-1496.53 100,-1506.53 107,-1506.53\" stroke=\"black\"/>\n",
       "</g>\n",
       "<!-- 140444886677600 -->\n",
       "<g class=\"node\" id=\"node11\"><title>140444886677600</title>\n",
       "<polygon fill=\"none\" points=\"26,-1387.5 26,-1423.5 181,-1423.5 181,-1387.5 26,-1387.5\" stroke=\"black\"/>\n",
       "<text font-family=\"Times,serif\" font-size=\"14.00\" text-anchor=\"middle\" x=\"103.5\" y=\"-1401.8\">activation_24: Activation</text>\n",
       "</g>\n",
       "<!-- 140444886676592&#45;&gt;140444886677600 -->\n",
       "<g class=\"edge\" id=\"edge10\"><title>140444886676592-&gt;140444886677600</title>\n",
       "<path d=\"M103.5,-1460.31C103.5,-1452.29 103.5,-1442.55 103.5,-1433.57\" fill=\"none\" stroke=\"black\"/>\n",
       "<polygon fill=\"black\" points=\"107,-1433.53 103.5,-1423.53 100,-1433.53 107,-1433.53\" stroke=\"black\"/>\n",
       "</g>\n",
       "<!-- 140444792014552 -->\n",
       "<g class=\"node\" id=\"node12\"><title>140444792014552</title>\n",
       "<polygon fill=\"none\" points=\"0,-1314.5 0,-1350.5 207,-1350.5 207,-1314.5 0,-1314.5\" stroke=\"black\"/>\n",
       "<text font-family=\"Times,serif\" font-size=\"14.00\" text-anchor=\"middle\" x=\"103.5\" y=\"-1328.8\">max_pooling2d_8: MaxPooling2D</text>\n",
       "</g>\n",
       "<!-- 140444886677600&#45;&gt;140444792014552 -->\n",
       "<g class=\"edge\" id=\"edge11\"><title>140444886677600-&gt;140444792014552</title>\n",
       "<path d=\"M103.5,-1387.31C103.5,-1379.29 103.5,-1369.55 103.5,-1360.57\" fill=\"none\" stroke=\"black\"/>\n",
       "<polygon fill=\"black\" points=\"107,-1360.53 103.5,-1350.53 100,-1360.53 107,-1360.53\" stroke=\"black\"/>\n",
       "</g>\n",
       "<!-- 140444792014384 -->\n",
       "<g class=\"node\" id=\"node13\"><title>140444792014384</title>\n",
       "<polygon fill=\"none\" points=\"38,-1241.5 38,-1277.5 169,-1277.5 169,-1241.5 38,-1241.5\" stroke=\"black\"/>\n",
       "<text font-family=\"Times,serif\" font-size=\"14.00\" text-anchor=\"middle\" x=\"103.5\" y=\"-1255.8\">dropout_12: Dropout</text>\n",
       "</g>\n",
       "<!-- 140444792014552&#45;&gt;140444792014384 -->\n",
       "<g class=\"edge\" id=\"edge12\"><title>140444792014552-&gt;140444792014384</title>\n",
       "<path d=\"M103.5,-1314.31C103.5,-1306.29 103.5,-1296.55 103.5,-1287.57\" fill=\"none\" stroke=\"black\"/>\n",
       "<polygon fill=\"black\" points=\"107,-1287.53 103.5,-1277.53 100,-1287.53 107,-1287.53\" stroke=\"black\"/>\n",
       "</g>\n",
       "<!-- 140445691860192 -->\n",
       "<g class=\"node\" id=\"node14\"><title>140445691860192</title>\n",
       "<polygon fill=\"none\" points=\"38.5,-1168.5 38.5,-1204.5 168.5,-1204.5 168.5,-1168.5 38.5,-1168.5\" stroke=\"black\"/>\n",
       "<text font-family=\"Times,serif\" font-size=\"14.00\" text-anchor=\"middle\" x=\"103.5\" y=\"-1182.8\">conv2d_19: Conv2D</text>\n",
       "</g>\n",
       "<!-- 140444792014384&#45;&gt;140445691860192 -->\n",
       "<g class=\"edge\" id=\"edge13\"><title>140444792014384-&gt;140445691860192</title>\n",
       "<path d=\"M103.5,-1241.31C103.5,-1233.29 103.5,-1223.55 103.5,-1214.57\" fill=\"none\" stroke=\"black\"/>\n",
       "<polygon fill=\"black\" points=\"107,-1214.53 103.5,-1204.53 100,-1214.53 107,-1214.53\" stroke=\"black\"/>\n",
       "</g>\n",
       "<!-- 140445691071848 -->\n",
       "<g class=\"node\" id=\"node15\"><title>140445691071848</title>\n",
       "<polygon fill=\"none\" points=\"26,-1095.5 26,-1131.5 181,-1131.5 181,-1095.5 26,-1095.5\" stroke=\"black\"/>\n",
       "<text font-family=\"Times,serif\" font-size=\"14.00\" text-anchor=\"middle\" x=\"103.5\" y=\"-1109.8\">activation_25: Activation</text>\n",
       "</g>\n",
       "<!-- 140445691860192&#45;&gt;140445691071848 -->\n",
       "<g class=\"edge\" id=\"edge14\"><title>140445691860192-&gt;140445691071848</title>\n",
       "<path d=\"M103.5,-1168.31C103.5,-1160.29 103.5,-1150.55 103.5,-1141.57\" fill=\"none\" stroke=\"black\"/>\n",
       "<polygon fill=\"black\" points=\"107,-1141.53 103.5,-1131.53 100,-1141.53 107,-1141.53\" stroke=\"black\"/>\n",
       "</g>\n",
       "<!-- 140445691072072 -->\n",
       "<g class=\"node\" id=\"node16\"><title>140445691072072</title>\n",
       "<polygon fill=\"none\" points=\"38.5,-1022.5 38.5,-1058.5 168.5,-1058.5 168.5,-1022.5 38.5,-1022.5\" stroke=\"black\"/>\n",
       "<text font-family=\"Times,serif\" font-size=\"14.00\" text-anchor=\"middle\" x=\"103.5\" y=\"-1036.8\">conv2d_20: Conv2D</text>\n",
       "</g>\n",
       "<!-- 140445691071848&#45;&gt;140445691072072 -->\n",
       "<g class=\"edge\" id=\"edge15\"><title>140445691071848-&gt;140445691072072</title>\n",
       "<path d=\"M103.5,-1095.31C103.5,-1087.29 103.5,-1077.55 103.5,-1068.57\" fill=\"none\" stroke=\"black\"/>\n",
       "<polygon fill=\"black\" points=\"107,-1068.53 103.5,-1058.53 100,-1068.53 107,-1068.53\" stroke=\"black\"/>\n",
       "</g>\n",
       "<!-- 140442625429400 -->\n",
       "<g class=\"node\" id=\"node17\"><title>140442625429400</title>\n",
       "<polygon fill=\"none\" points=\"26,-949.5 26,-985.5 181,-985.5 181,-949.5 26,-949.5\" stroke=\"black\"/>\n",
       "<text font-family=\"Times,serif\" font-size=\"14.00\" text-anchor=\"middle\" x=\"103.5\" y=\"-963.8\">activation_26: Activation</text>\n",
       "</g>\n",
       "<!-- 140445691072072&#45;&gt;140442625429400 -->\n",
       "<g class=\"edge\" id=\"edge16\"><title>140445691072072-&gt;140442625429400</title>\n",
       "<path d=\"M103.5,-1022.31C103.5,-1014.29 103.5,-1004.55 103.5,-995.569\" fill=\"none\" stroke=\"black\"/>\n",
       "<polygon fill=\"black\" points=\"107,-995.529 103.5,-985.529 100,-995.529 107,-995.529\" stroke=\"black\"/>\n",
       "</g>\n",
       "<!-- 140442625429120 -->\n",
       "<g class=\"node\" id=\"node18\"><title>140442625429120</title>\n",
       "<polygon fill=\"none\" points=\"38.5,-876.5 38.5,-912.5 168.5,-912.5 168.5,-876.5 38.5,-876.5\" stroke=\"black\"/>\n",
       "<text font-family=\"Times,serif\" font-size=\"14.00\" text-anchor=\"middle\" x=\"103.5\" y=\"-890.8\">conv2d_21: Conv2D</text>\n",
       "</g>\n",
       "<!-- 140442625429400&#45;&gt;140442625429120 -->\n",
       "<g class=\"edge\" id=\"edge17\"><title>140442625429400-&gt;140442625429120</title>\n",
       "<path d=\"M103.5,-949.313C103.5,-941.289 103.5,-931.547 103.5,-922.569\" fill=\"none\" stroke=\"black\"/>\n",
       "<polygon fill=\"black\" points=\"107,-922.529 103.5,-912.529 100,-922.529 107,-922.529\" stroke=\"black\"/>\n",
       "</g>\n",
       "<!-- 140442626535720 -->\n",
       "<g class=\"node\" id=\"node19\"><title>140442626535720</title>\n",
       "<polygon fill=\"none\" points=\"26,-803.5 26,-839.5 181,-839.5 181,-803.5 26,-803.5\" stroke=\"black\"/>\n",
       "<text font-family=\"Times,serif\" font-size=\"14.00\" text-anchor=\"middle\" x=\"103.5\" y=\"-817.8\">activation_27: Activation</text>\n",
       "</g>\n",
       "<!-- 140442625429120&#45;&gt;140442626535720 -->\n",
       "<g class=\"edge\" id=\"edge18\"><title>140442625429120-&gt;140442626535720</title>\n",
       "<path d=\"M103.5,-876.313C103.5,-868.289 103.5,-858.547 103.5,-849.569\" fill=\"none\" stroke=\"black\"/>\n",
       "<polygon fill=\"black\" points=\"107,-849.529 103.5,-839.529 100,-849.529 107,-849.529\" stroke=\"black\"/>\n",
       "</g>\n",
       "<!-- 140444794775536 -->\n",
       "<g class=\"node\" id=\"node20\"><title>140444794775536</title>\n",
       "<polygon fill=\"none\" points=\"0,-730.5 0,-766.5 207,-766.5 207,-730.5 0,-730.5\" stroke=\"black\"/>\n",
       "<text font-family=\"Times,serif\" font-size=\"14.00\" text-anchor=\"middle\" x=\"103.5\" y=\"-744.8\">max_pooling2d_9: MaxPooling2D</text>\n",
       "</g>\n",
       "<!-- 140442626535720&#45;&gt;140444794775536 -->\n",
       "<g class=\"edge\" id=\"edge19\"><title>140442626535720-&gt;140444794775536</title>\n",
       "<path d=\"M103.5,-803.313C103.5,-795.289 103.5,-785.547 103.5,-776.569\" fill=\"none\" stroke=\"black\"/>\n",
       "<polygon fill=\"black\" points=\"107,-776.529 103.5,-766.529 100,-776.529 107,-776.529\" stroke=\"black\"/>\n",
       "</g>\n",
       "<!-- 140442626958896 -->\n",
       "<g class=\"node\" id=\"node21\"><title>140442626958896</title>\n",
       "<polygon fill=\"none\" points=\"38,-657.5 38,-693.5 169,-693.5 169,-657.5 38,-657.5\" stroke=\"black\"/>\n",
       "<text font-family=\"Times,serif\" font-size=\"14.00\" text-anchor=\"middle\" x=\"103.5\" y=\"-671.8\">dropout_13: Dropout</text>\n",
       "</g>\n",
       "<!-- 140444794775536&#45;&gt;140442626958896 -->\n",
       "<g class=\"edge\" id=\"edge20\"><title>140444794775536-&gt;140442626958896</title>\n",
       "<path d=\"M103.5,-730.313C103.5,-722.289 103.5,-712.547 103.5,-703.569\" fill=\"none\" stroke=\"black\"/>\n",
       "<polygon fill=\"black\" points=\"107,-703.529 103.5,-693.529 100,-703.529 107,-703.529\" stroke=\"black\"/>\n",
       "</g>\n",
       "<!-- 140445691859912 -->\n",
       "<g class=\"node\" id=\"node22\"><title>140445691859912</title>\n",
       "<polygon fill=\"none\" points=\"48.5,-584.5 48.5,-620.5 158.5,-620.5 158.5,-584.5 48.5,-584.5\" stroke=\"black\"/>\n",
       "<text font-family=\"Times,serif\" font-size=\"14.00\" text-anchor=\"middle\" x=\"103.5\" y=\"-598.8\">flatten_3: Flatten</text>\n",
       "</g>\n",
       "<!-- 140442626958896&#45;&gt;140445691859912 -->\n",
       "<g class=\"edge\" id=\"edge21\"><title>140442626958896-&gt;140445691859912</title>\n",
       "<path d=\"M103.5,-657.313C103.5,-649.289 103.5,-639.547 103.5,-630.569\" fill=\"none\" stroke=\"black\"/>\n",
       "<polygon fill=\"black\" points=\"107,-630.529 103.5,-620.529 100,-630.529 107,-630.529\" stroke=\"black\"/>\n",
       "</g>\n",
       "<!-- 140442626960856 -->\n",
       "<g class=\"node\" id=\"node23\"><title>140442626960856</title>\n",
       "<polygon fill=\"none\" points=\"52.5,-511.5 52.5,-547.5 154.5,-547.5 154.5,-511.5 52.5,-511.5\" stroke=\"black\"/>\n",
       "<text font-family=\"Times,serif\" font-size=\"14.00\" text-anchor=\"middle\" x=\"103.5\" y=\"-525.8\">dense_7: Dense</text>\n",
       "</g>\n",
       "<!-- 140445691859912&#45;&gt;140442626960856 -->\n",
       "<g class=\"edge\" id=\"edge22\"><title>140445691859912-&gt;140442626960856</title>\n",
       "<path d=\"M103.5,-584.313C103.5,-576.289 103.5,-566.547 103.5,-557.569\" fill=\"none\" stroke=\"black\"/>\n",
       "<polygon fill=\"black\" points=\"107,-557.529 103.5,-547.529 100,-557.529 107,-557.529\" stroke=\"black\"/>\n",
       "</g>\n",
       "<!-- 140444792013936 -->\n",
       "<g class=\"node\" id=\"node24\"><title>140444792013936</title>\n",
       "<polygon fill=\"none\" points=\"26,-438.5 26,-474.5 181,-474.5 181,-438.5 26,-438.5\" stroke=\"black\"/>\n",
       "<text font-family=\"Times,serif\" font-size=\"14.00\" text-anchor=\"middle\" x=\"103.5\" y=\"-452.8\">activation_28: Activation</text>\n",
       "</g>\n",
       "<!-- 140442626960856&#45;&gt;140444792013936 -->\n",
       "<g class=\"edge\" id=\"edge23\"><title>140442626960856-&gt;140444792013936</title>\n",
       "<path d=\"M103.5,-511.313C103.5,-503.289 103.5,-493.547 103.5,-484.569\" fill=\"none\" stroke=\"black\"/>\n",
       "<polygon fill=\"black\" points=\"107,-484.529 103.5,-474.529 100,-484.529 107,-484.529\" stroke=\"black\"/>\n",
       "</g>\n",
       "<!-- 140444792014944 -->\n",
       "<g class=\"node\" id=\"node25\"><title>140444792014944</title>\n",
       "<polygon fill=\"none\" points=\"38,-365.5 38,-401.5 169,-401.5 169,-365.5 38,-365.5\" stroke=\"black\"/>\n",
       "<text font-family=\"Times,serif\" font-size=\"14.00\" text-anchor=\"middle\" x=\"103.5\" y=\"-379.8\">dropout_14: Dropout</text>\n",
       "</g>\n",
       "<!-- 140444792013936&#45;&gt;140444792014944 -->\n",
       "<g class=\"edge\" id=\"edge24\"><title>140444792013936-&gt;140444792014944</title>\n",
       "<path d=\"M103.5,-438.313C103.5,-430.289 103.5,-420.547 103.5,-411.569\" fill=\"none\" stroke=\"black\"/>\n",
       "<polygon fill=\"black\" points=\"107,-411.529 103.5,-401.529 100,-411.529 107,-411.529\" stroke=\"black\"/>\n",
       "</g>\n",
       "<!-- 140444792014216 -->\n",
       "<g class=\"node\" id=\"node26\"><title>140444792014216</title>\n",
       "<polygon fill=\"none\" points=\"52.5,-292.5 52.5,-328.5 154.5,-328.5 154.5,-292.5 52.5,-292.5\" stroke=\"black\"/>\n",
       "<text font-family=\"Times,serif\" font-size=\"14.00\" text-anchor=\"middle\" x=\"103.5\" y=\"-306.8\">dense_8: Dense</text>\n",
       "</g>\n",
       "<!-- 140444792014944&#45;&gt;140444792014216 -->\n",
       "<g class=\"edge\" id=\"edge25\"><title>140444792014944-&gt;140444792014216</title>\n",
       "<path d=\"M103.5,-365.313C103.5,-357.289 103.5,-347.547 103.5,-338.569\" fill=\"none\" stroke=\"black\"/>\n",
       "<polygon fill=\"black\" points=\"107,-338.529 103.5,-328.529 100,-338.529 107,-338.529\" stroke=\"black\"/>\n",
       "</g>\n",
       "<!-- 140444793949320 -->\n",
       "<g class=\"node\" id=\"node27\"><title>140444793949320</title>\n",
       "<polygon fill=\"none\" points=\"26,-219.5 26,-255.5 181,-255.5 181,-219.5 26,-219.5\" stroke=\"black\"/>\n",
       "<text font-family=\"Times,serif\" font-size=\"14.00\" text-anchor=\"middle\" x=\"103.5\" y=\"-233.8\">activation_29: Activation</text>\n",
       "</g>\n",
       "<!-- 140444792014216&#45;&gt;140444793949320 -->\n",
       "<g class=\"edge\" id=\"edge26\"><title>140444792014216-&gt;140444793949320</title>\n",
       "<path d=\"M103.5,-292.313C103.5,-284.289 103.5,-274.547 103.5,-265.569\" fill=\"none\" stroke=\"black\"/>\n",
       "<polygon fill=\"black\" points=\"107,-265.529 103.5,-255.529 100,-265.529 107,-265.529\" stroke=\"black\"/>\n",
       "</g>\n",
       "<!-- 140444793947864 -->\n",
       "<g class=\"node\" id=\"node28\"><title>140444793947864</title>\n",
       "<polygon fill=\"none\" points=\"38,-146.5 38,-182.5 169,-182.5 169,-146.5 38,-146.5\" stroke=\"black\"/>\n",
       "<text font-family=\"Times,serif\" font-size=\"14.00\" text-anchor=\"middle\" x=\"103.5\" y=\"-160.8\">dropout_15: Dropout</text>\n",
       "</g>\n",
       "<!-- 140444793949320&#45;&gt;140444793947864 -->\n",
       "<g class=\"edge\" id=\"edge27\"><title>140444793949320-&gt;140444793947864</title>\n",
       "<path d=\"M103.5,-219.313C103.5,-211.289 103.5,-201.547 103.5,-192.569\" fill=\"none\" stroke=\"black\"/>\n",
       "<polygon fill=\"black\" points=\"107,-192.529 103.5,-182.529 100,-192.529 107,-192.529\" stroke=\"black\"/>\n",
       "</g>\n",
       "<!-- 140445691103496 -->\n",
       "<g class=\"node\" id=\"node29\"><title>140445691103496</title>\n",
       "<polygon fill=\"none\" points=\"52.5,-73.5 52.5,-109.5 154.5,-109.5 154.5,-73.5 52.5,-73.5\" stroke=\"black\"/>\n",
       "<text font-family=\"Times,serif\" font-size=\"14.00\" text-anchor=\"middle\" x=\"103.5\" y=\"-87.8\">dense_9: Dense</text>\n",
       "</g>\n",
       "<!-- 140444793947864&#45;&gt;140445691103496 -->\n",
       "<g class=\"edge\" id=\"edge28\"><title>140444793947864-&gt;140445691103496</title>\n",
       "<path d=\"M103.5,-146.313C103.5,-138.289 103.5,-128.547 103.5,-119.569\" fill=\"none\" stroke=\"black\"/>\n",
       "<polygon fill=\"black\" points=\"107,-119.529 103.5,-109.529 100,-119.529 107,-119.529\" stroke=\"black\"/>\n",
       "</g>\n",
       "<!-- 140445691730800 -->\n",
       "<g class=\"node\" id=\"node30\"><title>140445691730800</title>\n",
       "<polygon fill=\"none\" points=\"26,-0.5 26,-36.5 181,-36.5 181,-0.5 26,-0.5\" stroke=\"black\"/>\n",
       "<text font-family=\"Times,serif\" font-size=\"14.00\" text-anchor=\"middle\" x=\"103.5\" y=\"-14.8\">activation_30: Activation</text>\n",
       "</g>\n",
       "<!-- 140445691103496&#45;&gt;140445691730800 -->\n",
       "<g class=\"edge\" id=\"edge29\"><title>140445691103496-&gt;140445691730800</title>\n",
       "<path d=\"M103.5,-73.3129C103.5,-65.2895 103.5,-55.5475 103.5,-46.5691\" fill=\"none\" stroke=\"black\"/>\n",
       "<polygon fill=\"black\" points=\"107,-46.5288 103.5,-36.5288 100,-46.5289 107,-46.5288\" stroke=\"black\"/>\n",
       "</g>\n",
       "</g>\n",
       "</svg>"
      ],
      "text/plain": [
       "<IPython.core.display.SVG object>"
      ]
     },
     "execution_count": 93,
     "metadata": {},
     "output_type": "execute_result"
    }
   ],
   "source": [
    "from IPython.display import SVG\n",
    "from keras.utils.vis_utils import model_to_dot\n",
    "\n",
    "plot_model(model, to_file=os.path.join(saveDir, 'model.png'))\n",
    "SVG(model_to_dot(model).create(prog='dot', format='svg'))"
   ]
  },
  {
   "cell_type": "markdown",
   "metadata": {},
   "source": [
    "## Optimization and callbacks"
   ]
  },
  {
   "cell_type": "code",
   "execution_count": 55,
   "metadata": {
    "collapsed": true
   },
   "outputs": [],
   "source": [
    "opt = keras.optimizers.adam()\n",
    "\n",
    "model.compile(loss='categorical_crossentropy',\n",
    "              optimizer=opt,\n",
    "              metrics=['accuracy'])\n",
    "\n",
    "es_cb = EarlyStopping(monitor='val_loss', patience=2, verbose=1, mode='auto')"
   ]
  },
  {
   "cell_type": "markdown",
   "metadata": {},
   "source": [
    "## Load pre-trained weights"
   ]
  },
  {
   "cell_type": "code",
   "execution_count": 56,
   "metadata": {
    "collapsed": true
   },
   "outputs": [],
   "source": [
    "# Using pre-trained weights\n",
    "model.load_weights(saveDir + \"tensorflow_0.8224_model.hdf5\")"
   ]
  },
  {
   "cell_type": "code",
   "execution_count": null,
   "metadata": {
    "collapsed": true
   },
   "outputs": [],
   "source": []
  },
  {
   "cell_type": "markdown",
   "metadata": {},
   "source": [
    "## Train"
   ]
  },
  {
   "cell_type": "code",
   "execution_count": null,
   "metadata": {
    "collapsed": true
   },
   "outputs": [],
   "source": [
    "history = model.fit(x_train, y_traincl,\n",
    "                    batch_size=batch_size,\n",
    "                    epochs=epochs,\n",
    "                    verbose=1,\n",
    "                    validation_data=(x_test, y_testcl),\n",
    "                    callbacks=[es_cb],\n",
    "                    shuffle=True)"
   ]
  },
  {
   "cell_type": "code",
   "execution_count": null,
   "metadata": {
    "collapsed": true
   },
   "outputs": [],
   "source": []
  },
  {
   "cell_type": "markdown",
   "metadata": {},
   "source": [
    "## Evaluation on Softmax"
   ]
  },
  {
   "cell_type": "code",
   "execution_count": 57,
   "metadata": {},
   "outputs": [
    {
     "name": "stdout",
     "output_type": "stream",
     "text": [
      "Test loss: 0.5586803967\n",
      "Test accuracy: 0.8224\n"
     ]
    }
   ],
   "source": [
    "score = model.evaluate(x_test, y_testcl, verbose=0)\n",
    "print('Test loss:', score[0])\n",
    "print('Test accuracy:', score[1])"
   ]
  },
  {
   "cell_type": "code",
   "execution_count": null,
   "metadata": {
    "collapsed": true
   },
   "outputs": [],
   "source": []
  },
  {
   "cell_type": "code",
   "execution_count": 58,
   "metadata": {
    "collapsed": true
   },
   "outputs": [],
   "source": [
    "# reshape testing target to fit to scikit-learn metric form\n",
    "y_testPred = model.predict(x_test)\n",
    "y_testP = []\n",
    "for x in y_testPred:\n",
    "    y_testP.append(x.argmax())\n",
    "y_testP = np.array(y_testP)"
   ]
  },
  {
   "cell_type": "code",
   "execution_count": 59,
   "metadata": {
    "collapsed": true
   },
   "outputs": [],
   "source": [
    "# visualize confusion matrix on heat map\n",
    "import pandas as pd\n",
    "import seaborn as sn\n",
    "import matplotlib.pyplot as plt\n",
    "from sklearn.metrics import confusion_matrix\n",
    "\n",
    "def print_cmx(y_true, y_pred):\n",
    "    labels = sorted(list(set(y_true)))\n",
    "    cmx_data = confusion_matrix(y_true, y_pred, labels=labels)\n",
    "    \n",
    "    df_cmx = pd.DataFrame(cmx_data, index=labels, columns=labels)\n",
    "\n",
    "    plt.figure(figsize = (10,7))\n",
    "    sn.heatmap(df_cmx, annot=True)\n",
    "    plt.show()"
   ]
  },
  {
   "cell_type": "code",
   "execution_count": 60,
   "metadata": {},
   "outputs": [
    {
     "data": {
      "image/png": "[encoded data removed]",
      "text/plain": [
       "<matplotlib.figure.Figure at 0x7fbc0f8bb198>"
      ]
     },
     "metadata": {},
     "output_type": "display_data"
    },
    {
     "name": "stdout",
     "output_type": "stream",
     "text": [
      "             precision    recall  f1-score   support\n",
      "\n",
      "          0       0.83      0.85      0.84      1000\n",
      "          1       0.93      0.90      0.92      1000\n",
      "          2       0.76      0.74      0.75      1000\n",
      "          3       0.66      0.64      0.65      1000\n",
      "          4       0.79      0.80      0.80      1000\n",
      "          5       0.76      0.74      0.75      1000\n",
      "          6       0.89      0.85      0.87      1000\n",
      "          7       0.87      0.87      0.87      1000\n",
      "          8       0.83      0.93      0.88      1000\n",
      "          9       0.89      0.90      0.89      1000\n",
      "\n",
      "avg / total       0.82      0.82      0.82     10000\n",
      "\n",
      "Accuracy: 0.8224\n"
     ]
    }
   ],
   "source": [
    "# get confusion matrix, classification report and accuracy score\n",
    "from sklearn.metrics import classification_report, accuracy_score\n",
    "\n",
    "print_cmx(y_test.T[0], y_testP)\n",
    "print(classification_report(y_test.T[0], y_testP))\n",
    "print(\"Accuracy: {0}\".format(accuracy_score(y_test.T[0], y_testP)))"
   ]
  },
  {
   "cell_type": "code",
   "execution_count": null,
   "metadata": {
    "collapsed": true
   },
   "outputs": [],
   "source": []
  },
  {
   "cell_type": "code",
   "execution_count": null,
   "metadata": {
    "collapsed": true
   },
   "outputs": [],
   "source": []
  },
  {
   "cell_type": "code",
   "execution_count": null,
   "metadata": {
    "collapsed": true
   },
   "outputs": [],
   "source": []
  },
  {
   "cell_type": "markdown",
   "metadata": {},
   "source": [
    "## Divide feature extraction layers and classification layers"
   ]
  },
  {
   "cell_type": "code",
   "execution_count": 61,
   "metadata": {
    "scrolled": true
   },
   "outputs": [
    {
     "name": "stdout",
     "output_type": "stream",
     "text": [
      "0 <keras.layers.convolutional.Conv2D object at 0x7fbc0f92d780>\n",
      "1 <keras.layers.core.Activation object at 0x7fbc0f92dc18>\n",
      "2 <keras.layers.convolutional.Conv2D object at 0x7fbc0f92d0b8>\n",
      "3 <keras.layers.core.Activation object at 0x7fbc0f92d710>\n",
      "4 <keras.layers.pooling.MaxPooling2D object at 0x7fbc0f92d5c0>\n",
      "5 <keras.layers.core.Dropout object at 0x7fbc0f92d400>\n",
      "6 <keras.layers.convolutional.Conv2D object at 0x7fbc0f92d588>\n",
      "7 <keras.layers.core.Activation object at 0x7fbc0f92d6d8>\n",
      "8 <keras.layers.convolutional.Conv2D object at 0x7fbbdf94b470>\n",
      "9 <keras.layers.core.Activation object at 0x7fbbdf94b860>\n",
      "10 <keras.layers.pooling.MaxPooling2D object at 0x7fbbd9f046d8>\n",
      "11 <keras.layers.core.Dropout object at 0x7fbbd9f04630>\n",
      "12 <keras.layers.convolutional.Conv2D object at 0x7fbc0f92d4e0>\n",
      "13 <keras.layers.core.Activation object at 0x7fbc0f86cd68>\n",
      "14 <keras.layers.convolutional.Conv2D object at 0x7fbc0f86ce48>\n",
      "15 <keras.layers.core.Activation object at 0x7fbb58cccf98>\n",
      "16 <keras.layers.convolutional.Conv2D object at 0x7fbb58ccce80>\n",
      "17 <keras.layers.core.Activation object at 0x7fbb58ddb128>\n",
      "18 <keras.layers.pooling.MaxPooling2D object at 0x7fbbda1a67f0>\n",
      "19 <keras.layers.core.Dropout object at 0x7fbb58e42630>\n",
      "20 <keras.layers.core.Flatten object at 0x7fbc0f92d3c8>\n",
      "21 <keras.layers.core.Dense object at 0x7fbb58e42dd8>\n",
      "22 <keras.layers.core.Activation object at 0x7fbbd9f04470>\n",
      "23 <keras.layers.core.Dropout object at 0x7fbbd9f04860>\n",
      "24 <keras.layers.core.Dense object at 0x7fbbd9f04588>\n",
      "25 <keras.layers.core.Activation object at 0x7fbbda0dcc88>\n",
      "26 <keras.layers.core.Dropout object at 0x7fbbda0dc6d8>\n",
      "27 <keras.layers.core.Dense object at 0x7fbc0f874908>\n",
      "28 <keras.layers.core.Activation object at 0x7fbc0f90db70>\n"
     ]
    }
   ],
   "source": [
    "# Layers definitions\n",
    "from keras import backend as K\n",
    "for l in range(len(model.layers)):\n",
    "    print(l, model.layers[l])"
   ]
  },
  {
   "cell_type": "code",
   "execution_count": 62,
   "metadata": {
    "collapsed": true
   },
   "outputs": [],
   "source": [
    "# feature extraction layer\n",
    "getFeature = K.function([model.layers[0].input, K.learning_phase()],\n",
    "                        [model.layers[26].output])"
   ]
  },
  {
   "cell_type": "code",
   "execution_count": 63,
   "metadata": {
    "collapsed": true
   },
   "outputs": [],
   "source": [
    "# classification layer\n",
    "getPrediction = K.function([model.layers[27].input, K.learning_phase()],\n",
    "                           [model.layers[28].output])"
   ]
  },
  {
   "cell_type": "code",
   "execution_count": null,
   "metadata": {
    "collapsed": true
   },
   "outputs": [],
   "source": []
  },
  {
   "cell_type": "markdown",
   "metadata": {},
   "source": [
    "## Get feature tensors for training and testing data"
   ]
  },
  {
   "cell_type": "code",
   "execution_count": 64,
   "metadata": {
    "collapsed": true,
    "scrolled": true
   },
   "outputs": [],
   "source": [
    "exTrain3000 = getFeature([x_train[:3000], 0])[0]"
   ]
  },
  {
   "cell_type": "code",
   "execution_count": 65,
   "metadata": {
    "collapsed": true,
    "scrolled": true
   },
   "outputs": [],
   "source": [
    "exTest1000 = getFeature([x_test[:1000], 0])[0]"
   ]
  },
  {
   "cell_type": "code",
   "execution_count": 66,
   "metadata": {},
   "outputs": [
    {
     "data": {
      "text/plain": [
       "array([ 0.69946557,  0.18650442,  0.29139316, ...,  0.        ,\n",
       "        0.        ,  0.31408471], dtype=float32)"
      ]
     },
     "execution_count": 66,
     "metadata": {},
     "output_type": "execute_result"
    }
   ],
   "source": [
    "# output of getFeature function\n",
    "exTrain3000[0]"
   ]
  },
  {
   "cell_type": "markdown",
   "metadata": {},
   "source": [
    "## Reshape target to fit to scikit-learn"
   ]
  },
  {
   "cell_type": "code",
   "execution_count": 67,
   "metadata": {
    "collapsed": true,
    "scrolled": true
   },
   "outputs": [],
   "source": [
    "y_train3000 = y_train[:3000].reshape(y_train[:3000].shape[0],)\n",
    "y_test1000 = y_test[:1000]"
   ]
  },
  {
   "cell_type": "code",
   "execution_count": 68,
   "metadata": {},
   "outputs": [
    {
     "name": "stdout",
     "output_type": "stream",
     "text": [
      "(3000, 1024) (1000, 1024) (3000,) (1000, 1)\n"
     ]
    }
   ],
   "source": [
    "print(exTrain3000.shape, exTest1000.shape, y_train3000.shape, y_test1000.shape)"
   ]
  },
  {
   "cell_type": "code",
   "execution_count": null,
   "metadata": {
    "collapsed": true
   },
   "outputs": [],
   "source": []
  },
  {
   "cell_type": "markdown",
   "metadata": {
    "collapsed": true
   },
   "source": [
    "## Grid search svm classification with feature extracted training data as input"
   ]
  },
  {
   "cell_type": "code",
   "execution_count": 78,
   "metadata": {
    "scrolled": true
   },
   "outputs": [
    {
     "data": {
      "text/plain": [
       "GridSearchCV(cv=None, error_score='raise',\n",
       "       estimator=SVC(C=1.0, cache_size=200, class_weight=None, coef0=0.0,\n",
       "  decision_function_shape='ovr', degree=3, gamma='auto', kernel='rbf',\n",
       "  max_iter=-1, probability=False, random_state=None, shrinking=True,\n",
       "  tol=0.001, verbose=False),\n",
       "       fit_params=None, iid=True, n_jobs=1,\n",
       "       param_grid={'C': [1, 10, 100, 1000], 'gamma': [0.001, 0.0001], 'kernel': ['rbf']},\n",
       "       pre_dispatch='2*n_jobs', refit=True, return_train_score=True,\n",
       "       scoring=None, verbose=0)"
      ]
     },
     "execution_count": 78,
     "metadata": {},
     "output_type": "execute_result"
    }
   ],
   "source": [
    "from sklearn.svm import SVC\n",
    "from sklearn.model_selection import GridSearchCV\n",
    "\n",
    "parameters = {'kernel':['rbf'], \n",
    "              'C':[1, 10, 100, 1000],\n",
    "              'gamma':[1e-3, 1e-4]}\n",
    "clf = GridSearchCV(SVC(), parameters)\n",
    "clf.fit(exTrain3000, y_train3000)"
   ]
  },
  {
   "cell_type": "code",
   "execution_count": 79,
   "metadata": {},
   "outputs": [
    {
     "data": {
      "text/plain": [
       "SVC(C=100, cache_size=200, class_weight=None, coef0=0.0,\n",
       "  decision_function_shape='ovr', degree=3, gamma=0.0001, kernel='rbf',\n",
       "  max_iter=-1, probability=False, random_state=None, shrinking=True,\n",
       "  tol=0.001, verbose=False)"
      ]
     },
     "execution_count": 79,
     "metadata": {},
     "output_type": "execute_result"
    }
   ],
   "source": [
    "svmclf = clf.best_estimator_\n",
    "svmclf.fit(exTrain3000, y_train3000)"
   ]
  },
  {
   "cell_type": "code",
   "execution_count": 80,
   "metadata": {},
   "outputs": [
    {
     "data": {
      "image/png": "[encoded data removed]",
      "text/plain": [
       "<matplotlib.figure.Figure at 0x7fbb58c5d588>"
      ]
     },
     "metadata": {},
     "output_type": "display_data"
    },
    {
     "name": "stdout",
     "output_type": "stream",
     "text": [
      "             precision    recall  f1-score   support\n",
      "\n",
      "          0       0.81      0.77      0.79       103\n",
      "          1       0.89      0.87      0.88        89\n",
      "          2       0.77      0.74      0.76       100\n",
      "          3       0.67      0.70      0.68       103\n",
      "          4       0.85      0.83      0.84        90\n",
      "          5       0.72      0.73      0.72        86\n",
      "          6       0.91      0.91      0.91       112\n",
      "          7       0.88      0.87      0.88       102\n",
      "          8       0.88      0.91      0.89       106\n",
      "          9       0.86      0.90      0.88       109\n",
      "\n",
      "avg / total       0.83      0.82      0.83      1000\n",
      "\n",
      "Accuracy: 0.825\n"
     ]
    }
   ],
   "source": [
    "y_testSVM = svmclf.predict(exTest1000)\n",
    "\n",
    "from sklearn.metrics import confusion_matrix, classification_report, accuracy_score\n",
    "\n",
    "print_cmx(y_test1000.T[0], y_testSVM)\n",
    "print(classification_report(y_test1000, y_testSVM))\n",
    "print(\"Accuracy: {0}\".format(accuracy_score(y_test1000, y_testSVM)))"
   ]
  },
  {
   "cell_type": "code",
   "execution_count": null,
   "metadata": {
    "collapsed": true
   },
   "outputs": [],
   "source": []
  },
  {
   "cell_type": "markdown",
   "metadata": {
    "collapsed": true
   },
   "source": [
    "## Grid search random forest classification with feature extracted training data as input"
   ]
  },
  {
   "cell_type": "code",
   "execution_count": 90,
   "metadata": {},
   "outputs": [
    {
     "data": {
      "text/plain": [
       "GridSearchCV(cv=None, error_score='raise',\n",
       "       estimator=RandomForestClassifier(bootstrap=True, class_weight=None, criterion='gini',\n",
       "            max_depth=None, max_features='auto', max_leaf_nodes=None,\n",
       "            min_impurity_decrease=0.0, min_impurity_split=None,\n",
       "            min_samples_leaf=1, min_samples_split=2,\n",
       "            min_weight_fraction_leaf=0.0, n_estimators=10, n_jobs=1,\n",
       "            oob_score=False, random_state=None, verbose=0,\n",
       "            warm_start=False),\n",
       "       fit_params=None, iid=True, n_jobs=1,\n",
       "       param_grid={'criterion': ['gini', 'entropy'], 'max_depth': [3, None], 'n_estimators': [10, 20, 50], 'min_samples_leaf': [1, 3, 10], 'min_samples_split': [1.0, 3, 10], 'bootstrap': [True, False], 'max_features': [1, 3, 10]},\n",
       "       pre_dispatch='2*n_jobs', refit=True, return_train_score=True,\n",
       "       scoring=None, verbose=0)"
      ]
     },
     "execution_count": 90,
     "metadata": {},
     "output_type": "execute_result"
    }
   ],
   "source": [
    "from sklearn.ensemble import RandomForestClassifier\n",
    "from sklearn.model_selection import GridSearchCV\n",
    "\n",
    "parameters = {\"max_depth\": [3, None],\n",
    "              \"max_features\": [1, 3, 10],\n",
    "              \"min_samples_split\": [1.0, 3, 10],\n",
    "              \"min_samples_leaf\": [1, 3, 10],\n",
    "              \"bootstrap\": [True, False],\n",
    "              \"criterion\": [\"gini\", \"entropy\"],\n",
    "              \"n_estimators\": [10, 20, 50]}\n",
    "rclf = RandomForestClassifier()\n",
    "rgclf = GridSearchCV(rclf, param_grid=parameters)\n",
    "rgclf.fit(exTrain3000, y_train3000)"
   ]
  },
  {
   "cell_type": "code",
   "execution_count": 91,
   "metadata": {},
   "outputs": [
    {
     "data": {
      "text/plain": [
       "RandomForestClassifier(bootstrap=True, class_weight=None, criterion='gini',\n",
       "            max_depth=None, max_features=10, max_leaf_nodes=None,\n",
       "            min_impurity_decrease=0.0, min_impurity_split=None,\n",
       "            min_samples_leaf=1, min_samples_split=10,\n",
       "            min_weight_fraction_leaf=0.0, n_estimators=50, n_jobs=1,\n",
       "            oob_score=False, random_state=None, verbose=0,\n",
       "            warm_start=False)"
      ]
     },
     "execution_count": 91,
     "metadata": {},
     "output_type": "execute_result"
    }
   ],
   "source": [
    "rclf = rgclf.best_estimator_\n",
    "rclf.fit(exTrain3000, y_train3000)"
   ]
  },
  {
   "cell_type": "code",
   "execution_count": 92,
   "metadata": {},
   "outputs": [
    {
     "data": {
      "image/png": "[encoded data removed]",
      "text/plain": [
       "<matplotlib.figure.Figure at 0x7fbb261a5a58>"
      ]
     },
     "metadata": {},
     "output_type": "display_data"
    },
    {
     "name": "stdout",
     "output_type": "stream",
     "text": [
      "             precision    recall  f1-score   support\n",
      "\n",
      "          0       0.83      0.79      0.81       103\n",
      "          1       0.91      0.87      0.89        89\n",
      "          2       0.78      0.76      0.77       100\n",
      "          3       0.65      0.71      0.68       103\n",
      "          4       0.85      0.81      0.83        90\n",
      "          5       0.72      0.70      0.71        86\n",
      "          6       0.92      0.89      0.90       112\n",
      "          7       0.86      0.87      0.86       102\n",
      "          8       0.87      0.92      0.89       106\n",
      "          9       0.88      0.91      0.89       109\n",
      "\n",
      "avg / total       0.83      0.82      0.83      1000\n",
      "\n",
      "Accuracy: 0.825\n"
     ]
    }
   ],
   "source": [
    "y_testRF = rclf.predict(exTest1000)\n",
    "\n",
    "from sklearn.metrics import confusion_matrix, classification_report, accuracy_score\n",
    "\n",
    "print_cmx(y_test1000.T[0], y_testRF)\n",
    "print(classification_report(y_test1000, y_testRF))\n",
    "print(\"Accuracy: {0}\".format(accuracy_score(y_test1000, y_testRF)))"
   ]
  },
  {
   "cell_type": "code",
   "execution_count": null,
   "metadata": {
    "collapsed": true
   },
   "outputs": [],
   "source": []
  },
  {
   "cell_type": "markdown",
   "metadata": {
    "collapsed": true
   },
   "source": [
    "## Grid search K nearest neighbors classification with feature extracted training data as input"
   ]
  },
  {
   "cell_type": "code",
   "execution_count": 87,
   "metadata": {
    "scrolled": true
   },
   "outputs": [
    {
     "data": {
      "text/plain": [
       "GridSearchCV(cv=None, error_score='raise',\n",
       "       estimator=KNeighborsClassifier(algorithm='auto', leaf_size=30, metric='minkowski',\n",
       "           metric_params=None, n_jobs=1, n_neighbors=5, p=2,\n",
       "           weights='uniform'),\n",
       "       fit_params=None, iid=True, n_jobs=1,\n",
       "       param_grid={'algorithm': ['auto', 'ball_tree', 'kd_tree', 'brute'], 'n_neighbors': [1, 5, 10, 30], 'weights': ['uniform', 'distance'], 'metric': ['minkowski', 'euclidean', 'manhattan']},\n",
       "       pre_dispatch='2*n_jobs', refit=True, return_train_score=True,\n",
       "       scoring=None, verbose=0)"
      ]
     },
     "execution_count": 87,
     "metadata": {},
     "output_type": "execute_result"
    }
   ],
   "source": [
    "from sklearn.neighbors import KNeighborsClassifier\n",
    "from sklearn.model_selection import GridSearchCV\n",
    "\n",
    "parameters = {\"n_neighbors\": [1, 5, 10, 30],\n",
    "              \"weights\": ['uniform', 'distance'],\n",
    "              \"metric\": ['minkowski','euclidean','manhattan'],\n",
    "              \"algorithm\": ['auto', 'ball_tree', 'kd_tree', 'brute']}\n",
    "kclf = KNeighborsClassifier()\n",
    "kgclf = GridSearchCV(kclf, param_grid=parameters)\n",
    "kgclf.fit(exTrain3000, y_train3000)"
   ]
  },
  {
   "cell_type": "code",
   "execution_count": 88,
   "metadata": {},
   "outputs": [
    {
     "data": {
      "text/plain": [
       "KNeighborsClassifier(algorithm='auto', leaf_size=30, metric='manhattan',\n",
       "           metric_params=None, n_jobs=1, n_neighbors=30, p=2,\n",
       "           weights='distance')"
      ]
     },
     "execution_count": 88,
     "metadata": {},
     "output_type": "execute_result"
    }
   ],
   "source": [
    "kclf = kgclf.best_estimator_\n",
    "kclf.fit(exTrain3000, y_train3000)"
   ]
  },
  {
   "cell_type": "code",
   "execution_count": 89,
   "metadata": {},
   "outputs": [
    {
     "data": {
      "image/png": "[encoded data removed]",
      "text/plain": [
       "<matplotlib.figure.Figure at 0x7fbb58c5d320>"
      ]
     },
     "metadata": {},
     "output_type": "display_data"
    },
    {
     "name": "stdout",
     "output_type": "stream",
     "text": [
      "             precision    recall  f1-score   support\n",
      "\n",
      "          0       0.81      0.77      0.79       103\n",
      "          1       0.88      0.84      0.86        89\n",
      "          2       0.80      0.74      0.77       100\n",
      "          3       0.68      0.65      0.66       103\n",
      "          4       0.83      0.81      0.82        90\n",
      "          5       0.70      0.77      0.73        86\n",
      "          6       0.88      0.89      0.89       112\n",
      "          7       0.86      0.89      0.88       102\n",
      "          8       0.88      0.92      0.90       106\n",
      "          9       0.85      0.90      0.88       109\n",
      "\n",
      "avg / total       0.82      0.82      0.82      1000\n",
      "\n",
      "Accuracy: 0.82\n"
     ]
    }
   ],
   "source": [
    "y_testKNN = kclf.predict(exTest1000)\n",
    "\n",
    "from sklearn.metrics import confusion_matrix, classification_report, accuracy_score\n",
    "\n",
    "print_cmx(y_test1000.T[0], y_testKNN)\n",
    "print(classification_report(y_test1000, y_testKNN))\n",
    "print(\"Accuracy: {0}\".format(accuracy_score(y_test1000, y_testKNN)))"
   ]
  },
  {
   "cell_type": "code",
   "execution_count": null,
   "metadata": {
    "collapsed": true
   },
   "outputs": [],
   "source": []
  },
  {
   "cell_type": "code",
   "execution_count": null,
   "metadata": {
    "collapsed": true
   },
   "outputs": [],
   "source": []
  }
 ],
 "metadata": {
  "anaconda-cloud": {},
  "kernelspec": {
   "display_name": "Python [conda root]",
   "language": "python",
   "name": "conda-root-py"
  },
  "language_info": {
   "codemirror_mode": {
    "name": "ipython",
    "version": 3
   },
   "file_extension": ".py",
   "mimetype": "text/x-python",
   "name": "python",
   "nbconvert_exporter": "python",
   "pygments_lexer": "ipython3",
   "version": "3.5.2"
  }
 },
 "nbformat": 4,
 "nbformat_minor": 1
}
